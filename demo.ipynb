{
 "metadata": {
  "name": "demo"
 },
 "nbformat": 3,
 "nbformat_minor": 0,
 "worksheets": [
  {
   "cells": [
    {
     "cell_type": "markdown",
     "metadata": {
      "slideshow": {
       "slide_start": true,
       "slide_type": "slide"
      }
     },
     "source": [
      "# Fluid everyday scientific computing\n",
      "\n",
      "<!--====-->"
     ]
    },
    {
     "cell_type": "code",
     "collapsed": false,
     "input": [
      "%pylab inline"
     ],
     "language": "python",
     "metadata": {
      "slideshow": {
       "slide_start": false
      }
     },
     "outputs": []
    },
    {
     "cell_type": "code",
     "collapsed": false,
     "input": [
      "x = linspace(0, 3*pi, 500)\n",
      "\n",
      "plot(x, sin(x**2))\n",
      "\n",
      "title('A simple chirp');"
     ],
     "language": "python",
     "metadata": {
      "slideshow": {
       "slide_start": false
      }
     },
     "outputs": []
    },
    {
     "cell_type": "markdown",
     "metadata": {
      "slideshow": {
       "slide_start": true,
       "slide_type": "slide"
      }
     },
     "source": [
      "## Errors are shown in informative ways:"
     ]
    },
    {
     "cell_type": "code",
     "collapsed": false,
     "input": [
      "x = 1\n",
      "\n",
      "y = 4\n",
      "\n",
      "z = y/(1-x)\n",
      "\n",
      "print z"
     ],
     "language": "python",
     "metadata": {
      "slideshow": {
       "slide_start": false
      }
     },
     "outputs": []
    },
    {
     "cell_type": "markdown",
     "metadata": {
      "slideshow": {
       "slide_start": true,
       "slide_type": "slide"
      }
     },
     "source": [
      "<!--====-->\n",
      "\n",
      "## Document your workflows\n",
      "\n",
      "\n",
      "\n",
      "You can *italicize*, **boldface**\n",
      "\n",
      "\n",
      "\n",
      "* build\n",
      "\n",
      "* lists\n",
      "\n",
      "\n",
      "\n",
      "and embed code meant for illustration instead of execution in Python:\n",
      "\n",
      "\n",
      "\n",
      "    def f(x):\n",
      "\n",
      "        \"\"\"a docstring\"\"\"\n",
      "\n",
      "        return x**2\n",
      "\n",
      "\n",
      "\n",
      "or other languages:\n",
      "\n",
      "\n",
      "\n",
      "    if (i=0; i<n; i++) {\n",
      "\n",
      "      printf(\"hello %d\\n\", i);\n",
      "\n",
      "      x += 4;\n",
      "\n",
      "    }"
     ]
    },
    {
     "cell_type": "markdown",
     "metadata": {
      "slideshow": {
       "slide_start": false
      }
     },
     "source": [
      "Courtesy of MathJax, you can include mathematical expressions both inline: \n",
      "\n",
      "$e^{i\\pi} + 1 = 0$  and displayed:\n",
      "\n",
      "\n",
      "\n",
      "$$e^x=\\sum_{i=0}^\\infty \\frac{1}{i!}x^i$$"
     ]
    },
    {
     "cell_type": "markdown",
     "metadata": {
      "slideshow": {
       "slide_start": true,
       "slide_type": "slide"
      }
     },
     "source": [
      "<!--====-->\n",
      "\n",
      "## Rich displays: include anyting a browser can show\n",
      "\n",
      "\n",
      "\n",
      "### Images"
     ]
    },
    {
     "cell_type": "code",
     "collapsed": false,
     "input": [
      "from IPython.display import Image\n",
      "\n",
      "Image(filename='logo.png')"
     ],
     "language": "python",
     "metadata": {
      "slideshow": {
       "slide_start": false
      }
     },
     "outputs": []
    },
    {
     "cell_type": "code",
     "collapsed": false,
     "input": [
      "from IPython.display import HTML\n",
      "\n",
      "HTML(\"\"\"<table> <tr>\n",
      "\n",
      "<th>Header 1</th>\n",
      "\n",
      "<th>Header 2</th></tr>\n",
      "\n",
      "<tr><td>row 1, cell 1</td>\n",
      "\n",
      "<td>row 1, cell 2</td></tr>\n",
      "\n",
      "<tr><td>row 2, cell 1</td>\n",
      "\n",
      "<td>row 2, cell 2</td></tr></table>\"\"\")"
     ],
     "language": "python",
     "metadata": {},
     "outputs": []
    },
    {
     "cell_type": "markdown",
     "metadata": {
      "slideshow": {
       "slide_start": true,
       "slide_type": "slide"
      }
     },
     "source": [
      "<!--====-->\n",
      "\n",
      "### Video"
     ]
    },
    {
     "cell_type": "code",
     "collapsed": false,
     "input": [
      "from IPython.display import YouTubeVideo\n",
      "\n",
      "YouTubeVideo('F4rFuIb1Ie4')"
     ],
     "language": "python",
     "metadata": {
      "slideshow": {
       "slide_start": false
      }
     },
     "outputs": []
    },
    {
     "cell_type": "markdown",
     "metadata": {
      "slideshow": {
       "slide_start": true,
       "slide_type": "slide"
      }
     },
     "source": [
      "### Embed entire websites\n",
      "\n",
      "<!--====-->"
     ]
    },
    {
     "cell_type": "code",
     "collapsed": false,
     "input": [
      "from IPython.display import HTML\n",
      "\n",
      "HTML('<iframe src=http://en.mobile.wikipedia.org/?useformat=mobile width=650 height=350>')"
     ],
     "language": "python",
     "metadata": {
      "slideshow": {
       "slide_start": false
      }
     },
     "outputs": []
    },
    {
     "cell_type": "markdown",
     "metadata": {
      "slideshow": {
       "slide_start": true,
       "slide_type": "slide"
      }
     },
     "source": [
      "<!--====-->\n",
      "\n",
      "## Load remote code\n",
      "\n",
      "\n",
      "\n",
      "Use ``%load`` with any local or remote url, such as [the always useful Matplotlib Gallery!](http://matplotlib.org/gallery.html)"
     ]
    },
    {
     "cell_type": "code",
     "collapsed": true,
     "input": [
      "%load http://matplotlib.org/mpl_examples/api/hinton_demo.py"
     ],
     "language": "python",
     "metadata": {
      "slideshow": {
       "slide_start": false
      }
     },
     "outputs": []
    },
    {
     "cell_type": "markdown",
     "metadata": {
      "slideshow": {
       "slide_start": true,
       "slide_type": "slide"
      }
     },
     "source": [
      "<!--====-->\n",
      "\n",
      "## LaTeX rendering and SymPy support\n",
      "\n",
      "\n",
      "\n",
      "Objects can have a LaTeX representation, rendered thanks to MathJax:"
     ]
    },
    {
     "cell_type": "code",
     "collapsed": false,
     "input": [
      "from IPython.display import Math\n",
      "\n",
      "Math(r'F(k) = \\int_{-\\infty}^{\\infty} f(x) e^{2\\pi i k} dx')"
     ],
     "language": "python",
     "metadata": {
      "slideshow": {
       "slide_start": false
      }
     },
     "outputs": []
    },
    {
     "cell_type": "code",
     "collapsed": false,
     "input": [
      "from IPython.display import Latex\n",
      "\n",
      "Latex(r\"\"\"\\begin{eqnarray}\n",
      "\n",
      "\\nabla \\times \\vec{\\mathbf{B}} -\\, \\frac1c\\, \n",
      "\n",
      "\\frac{\\partial\\vec{\\mathbf{E}}}{\\partial t} & = \\frac{4\\pi}{c}\\vec{\\mathbf{j}} \\\\\n",
      "\n",
      "\\nabla \\cdot \\vec{\\mathbf{E}} & = 4 \\pi \\rho \\\\\n",
      "\n",
      "\\nabla \\times \\vec{\\mathbf{E}}\\, +\\, \\frac1c\\, \n",
      "\n",
      "\\frac{\\partial\\vec{\\mathbf{B}}}{\\partial t} & = \\vec{\\mathbf{0}} \\\\\n",
      "\n",
      "\\nabla \\cdot \\vec{\\mathbf{B}} & = 0 \n",
      "\n",
      "\\end{eqnarray}\"\"\")"
     ],
     "language": "python",
     "metadata": {
      "slideshow": {
       "slide_start": false
      }
     },
     "outputs": []
    },
    {
     "cell_type": "markdown",
     "metadata": {
      "slideshow": {
       "slide_start": true,
       "slide_type": "slide"
      }
     },
     "source": [
      "<!--====-->\n",
      "\n",
      "## This plays very nicely with SymPy"
     ]
    },
    {
     "cell_type": "code",
     "collapsed": false,
     "input": [
      "%load_ext sympyprinting\n",
      "\n",
      "from __future__ import division\n",
      "\n",
      "from sympy import *\n",
      "\n",
      "x, y = symbols(\"x y\")"
     ],
     "language": "python",
     "metadata": {
      "slideshow": {
       "slide_start": false
      }
     },
     "outputs": []
    },
    {
     "cell_type": "code",
     "collapsed": false,
     "input": [
      "eq = ((x+y)**2 * (x+1)); eq"
     ],
     "language": "python",
     "metadata": {
      "slideshow": {
       "slide_start": false
      }
     },
     "outputs": []
    },
    {
     "cell_type": "code",
     "collapsed": false,
     "input": [
      "expand(eq)"
     ],
     "language": "python",
     "metadata": {
      "slideshow": {
       "slide_start": false
      }
     },
     "outputs": []
    },
    {
     "cell_type": "code",
     "collapsed": false,
     "input": [
      "(1/cos(x)).series(x, 0, 6)"
     ],
     "language": "python",
     "metadata": {
      "slideshow": {
       "slide_start": false
      }
     },
     "outputs": []
    },
    {
     "cell_type": "code",
     "collapsed": false,
     "input": [
      "diff(cos(x**2)**2 / (1+x), x)"
     ],
     "language": "python",
     "metadata": {},
     "outputs": []
    },
    {
     "cell_type": "markdown",
     "metadata": {
      "slideshow": {
       "slide_start": true,
       "slide_type": "slide"
      }
     },
     "source": [
      "### <!--====-->\n",
      "\n",
      "##Seamless Cython"
     ]
    },
    {
     "cell_type": "code",
     "collapsed": false,
     "input": [
      "%load_ext cythonmagic"
     ],
     "language": "python",
     "metadata": {
      "slideshow": {
       "slide_start": false
      }
     },
     "outputs": []
    },
    {
     "cell_type": "code",
     "collapsed": false,
     "input": [
      "def f(x):\n",
      "\n",
      "    return x**2-x\n",
      "\n",
      "\n",
      "\n",
      "def integrate_f(a, b, N):\n",
      "\n",
      "    s = 0; dx = (b-a)/N\n",
      "\n",
      "    for i in range(N):\n",
      "\n",
      "        s += f(a+i*dx)\n",
      "\n",
      "    return s * dx"
     ],
     "language": "python",
     "metadata": {
      "slideshow": {
       "slide_start": false
      }
     },
     "outputs": []
    },
    {
     "cell_type": "code",
     "collapsed": false,
     "input": [
      "%%cython\n",
      "\n",
      "cdef double fcy(double x) except? -2:\n",
      "\n",
      "    return x**2-x\n",
      "\n",
      "\n",
      "\n",
      "def integrate_fcy(double a, double b, int N):\n",
      "\n",
      "    cdef int i\n",
      "\n",
      "    cdef double s, dx\n",
      "\n",
      "    s = 0; dx = (b-a)/N\n",
      "\n",
      "    for i in range(N):\n",
      "\n",
      "        s += fcy(a+i*dx)\n",
      "\n",
      "    return s * dx"
     ],
     "language": "python",
     "metadata": {
      "slideshow": {
       "slide_start": false
      }
     },
     "outputs": []
    },
    {
     "cell_type": "code",
     "collapsed": false,
     "input": [
      "%timeit integrate_f(0, 1, 100)\n",
      "\n",
      "%timeit integrate_fcy(0, 1, 100)"
     ],
     "language": "python",
     "metadata": {
      "slideshow": {
       "slide_start": false
      }
     },
     "outputs": []
    },
    {
     "cell_type": "code",
     "collapsed": false,
     "input": [],
     "language": "python",
     "metadata": {},
     "outputs": []
    }
   ],
   "metadata": {}
  }
 ]
}